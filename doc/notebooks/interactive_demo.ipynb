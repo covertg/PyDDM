{
 "cells": [
  {
   "cell_type": "markdown",
   "metadata": {
    "id": "VR0h1HdvBVED"
   },
   "source": [
    "# PyDDM online demo\n",
    "\n",
    "This is an interactive demo of a GDDM with leaky integration and exponentially collapsing bounds.\n",
    "\n",
    "This demo can be run like a normal Jupyter notebook.  If you've never used Jupyter notebooks before, hover over both headings below (\"Install PyDDM on Google Colab\" and \"Define the model and run the GUI\") and press the play button on each.  An interactive demo will show below.  To make changes to the model and try out your changes, click on \"Show code\" and edit it.  When you are done, click on the play button again to update the demo."
   ]
  },
  {
   "cell_type": "code",
   "execution_count": null,
   "metadata": {
    "cellView": "form",
    "id": "OSvz7UeUtiiU"
   },
   "outputs": [],
   "source": [
    "#@title Install PyDDM on Google Colab\n",
    "!pip -q install git+https://github.com/mwshinn/PyDDM"
   ]
  },
  {
   "cell_type": "code",
   "execution_count": null,
   "metadata": {
    "cellView": "form",
    "id": "LyBBVtpquqv2"
   },
   "outputs": [],
   "source": [
    "#@title Define the model and run the GUI\n",
    "import pyddm\n",
    "import pyddm.plot\n",
    "import numpy as np\n",
    "model = pyddm.auto_model(drift=lambda x,leak,driftrate : driftrate - x*leak,\n",
    "                         noise=1,\n",
    "                         bound=lambda t,initial_B,collapse_rate : initial_B * np.exp(-collapse_rate*t),\n",
    "                         starting_position=\"x0\",\n",
    "                         parameters={\"leak\": (0, 2),\n",
    "                                     \"driftrate\": (-3, 3),\n",
    "                                     \"initial_B\": (.5, 1.5),\n",
    "                                     \"collapse_rate\": (0, 10),\n",
    "                                     \"x0\": (-.9, .9)})\n",
    "            \n",
    "pyddm.plot.model_gui_jupyter(model)\n",
    "# pyddm.plot.model_gui(model) # If not using a Jupyter notebook, or Google Colab"
   ]
  }
 ],
 "metadata": {
  "colab": {
   "name": "interactive_demo.ipynb",
   "provenance": []
  },
  "kernelspec": {
   "display_name": "Python 3",
   "language": "python",
   "name": "python3"
  }
 },
 "nbformat": 4,
 "nbformat_minor": 1
}
